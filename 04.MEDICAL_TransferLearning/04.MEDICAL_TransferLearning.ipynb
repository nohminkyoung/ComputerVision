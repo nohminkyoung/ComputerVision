{
 "cells": [
  {
   "cell_type": "markdown",
   "id": "7fab4b95-0947-4673-ab0e-36be9db48862",
   "metadata": {},
   "source": [
    "# 1. Dataset 살펴보기"
   ]
  },
  {
   "cell_type": "code",
   "execution_count": 1,
   "id": "56223f0f-2481-43eb-8708-788fc3433dbc",
   "metadata": {},
   "outputs": [],
   "source": [
    "import os\n",
    "import cv2\n",
    "import numpy as np\n",
    "import pandas as pd\n",
    "import matplotlib.pyplot as plt"
   ]
  },
  {
   "cell_type": "code",
   "execution_count": 2,
   "id": "04f3015f-f79f-44f9-9346-7e17204df11d",
   "metadata": {},
   "outputs": [
    {
     "data": {
      "text/html": [
       "<div>\n",
       "<style scoped>\n",
       "    .dataframe tbody tr th:only-of-type {\n",
       "        vertical-align: middle;\n",
       "    }\n",
       "\n",
       "    .dataframe tbody tr th {\n",
       "        vertical-align: top;\n",
       "    }\n",
       "\n",
       "    .dataframe thead th {\n",
       "        text-align: right;\n",
       "    }\n",
       "</style>\n",
       "<table border=\"1\" class=\"dataframe\">\n",
       "  <thead>\n",
       "    <tr style=\"text-align: right;\">\n",
       "      <th></th>\n",
       "      <th>ImageId</th>\n",
       "      <th>MaskId</th>\n",
       "    </tr>\n",
       "  </thead>\n",
       "  <tbody>\n",
       "    <tr>\n",
       "      <th>0</th>\n",
       "      <td>ID00007637202177411956430_0.jpg</td>\n",
       "      <td>ID00007637202177411956430_mask_0.jpg</td>\n",
       "    </tr>\n",
       "    <tr>\n",
       "      <th>1</th>\n",
       "      <td>ID00007637202177411956430_1.jpg</td>\n",
       "      <td>ID00007637202177411956430_mask_1.jpg</td>\n",
       "    </tr>\n",
       "    <tr>\n",
       "      <th>2</th>\n",
       "      <td>ID00007637202177411956430_2.jpg</td>\n",
       "      <td>ID00007637202177411956430_mask_2.jpg</td>\n",
       "    </tr>\n",
       "    <tr>\n",
       "      <th>3</th>\n",
       "      <td>ID00007637202177411956430_3.jpg</td>\n",
       "      <td>ID00007637202177411956430_mask_3.jpg</td>\n",
       "    </tr>\n",
       "    <tr>\n",
       "      <th>4</th>\n",
       "      <td>ID00007637202177411956430_4.jpg</td>\n",
       "      <td>ID00007637202177411956430_mask_4.jpg</td>\n",
       "    </tr>\n",
       "  </tbody>\n",
       "</table>\n",
       "</div>"
      ],
      "text/plain": [
       "                           ImageId                                MaskId\n",
       "0  ID00007637202177411956430_0.jpg  ID00007637202177411956430_mask_0.jpg\n",
       "1  ID00007637202177411956430_1.jpg  ID00007637202177411956430_mask_1.jpg\n",
       "2  ID00007637202177411956430_2.jpg  ID00007637202177411956430_mask_2.jpg\n",
       "3  ID00007637202177411956430_3.jpg  ID00007637202177411956430_mask_3.jpg\n",
       "4  ID00007637202177411956430_4.jpg  ID00007637202177411956430_mask_4.jpg"
      ]
     },
     "execution_count": 2,
     "metadata": {},
     "output_type": "execute_result"
    }
   ],
   "source": [
    "data_dir = '../../data/MEDICAL-DATASET/Segmentation/'\n",
    "data_df = pd.read_csv(os.path.join(data_dir,'train.csv'))\n",
    "data_df.head()"
   ]
  },
  {
   "cell_type": "code",
   "execution_count": 3,
   "id": "403d7dd4-5513-4c11-85ba-10338fddfbb7",
   "metadata": {},
   "outputs": [
    {
     "data": {
      "text/html": [
       "<div>\n",
       "<style scoped>\n",
       "    .dataframe tbody tr th:only-of-type {\n",
       "        vertical-align: middle;\n",
       "    }\n",
       "\n",
       "    .dataframe tbody tr th {\n",
       "        vertical-align: top;\n",
       "    }\n",
       "\n",
       "    .dataframe thead th {\n",
       "        text-align: right;\n",
       "    }\n",
       "</style>\n",
       "<table border=\"1\" class=\"dataframe\">\n",
       "  <thead>\n",
       "    <tr style=\"text-align: right;\">\n",
       "      <th></th>\n",
       "      <th>ImageId</th>\n",
       "      <th>MaskId</th>\n",
       "      <th>ID</th>\n",
       "    </tr>\n",
       "  </thead>\n",
       "  <tbody>\n",
       "    <tr>\n",
       "      <th>0</th>\n",
       "      <td>ID00007637202177411956430_0.jpg</td>\n",
       "      <td>ID00007637202177411956430_mask_0.jpg</td>\n",
       "      <td>ID00007637202177411956430</td>\n",
       "    </tr>\n",
       "    <tr>\n",
       "      <th>1</th>\n",
       "      <td>ID00007637202177411956430_1.jpg</td>\n",
       "      <td>ID00007637202177411956430_mask_1.jpg</td>\n",
       "      <td>ID00007637202177411956430</td>\n",
       "    </tr>\n",
       "    <tr>\n",
       "      <th>2</th>\n",
       "      <td>ID00007637202177411956430_2.jpg</td>\n",
       "      <td>ID00007637202177411956430_mask_2.jpg</td>\n",
       "      <td>ID00007637202177411956430</td>\n",
       "    </tr>\n",
       "    <tr>\n",
       "      <th>3</th>\n",
       "      <td>ID00007637202177411956430_3.jpg</td>\n",
       "      <td>ID00007637202177411956430_mask_3.jpg</td>\n",
       "      <td>ID00007637202177411956430</td>\n",
       "    </tr>\n",
       "    <tr>\n",
       "      <th>4</th>\n",
       "      <td>ID00007637202177411956430_4.jpg</td>\n",
       "      <td>ID00007637202177411956430_mask_4.jpg</td>\n",
       "      <td>ID00007637202177411956430</td>\n",
       "    </tr>\n",
       "  </tbody>\n",
       "</table>\n",
       "</div>"
      ],
      "text/plain": [
       "                           ImageId                                MaskId  \\\n",
       "0  ID00007637202177411956430_0.jpg  ID00007637202177411956430_mask_0.jpg   \n",
       "1  ID00007637202177411956430_1.jpg  ID00007637202177411956430_mask_1.jpg   \n",
       "2  ID00007637202177411956430_2.jpg  ID00007637202177411956430_mask_2.jpg   \n",
       "3  ID00007637202177411956430_3.jpg  ID00007637202177411956430_mask_3.jpg   \n",
       "4  ID00007637202177411956430_4.jpg  ID00007637202177411956430_mask_4.jpg   \n",
       "\n",
       "                          ID  \n",
       "0  ID00007637202177411956430  \n",
       "1  ID00007637202177411956430  \n",
       "2  ID00007637202177411956430  \n",
       "3  ID00007637202177411956430  \n",
       "4  ID00007637202177411956430  "
      ]
     },
     "execution_count": 3,
     "metadata": {},
     "output_type": "execute_result"
    }
   ],
   "source": [
    "# 고객 아이디를 담고있는 컬럼 생성\n",
    "def customer_id(x):\n",
    "    return x.split('_')[0]\n",
    "\n",
    "data_df['ID'] = data_df['ImageId'].apply(customer_id)\n",
    "data_df.head()"
   ]
  },
  {
   "cell_type": "code",
   "execution_count": 24,
   "id": "7b6dd4c9-1d4b-45c9-851c-d28119dca632",
   "metadata": {},
   "outputs": [],
   "source": [
    "# 고객한명에 대한 데이터만 불러와 동영상으로 확인\n",
    "def one_customer_data(data_df, index):\n",
    "    customer = np.unique(data_df['ID'])[index] # 고객 아이디\n",
    "    img_data_list = list(data_df[data_df['ID']==customer][\"ImageId\"])\n",
    "    mask_data_list = list(data_df[data_df['ID']==customer][\"MaskId\"])\n",
    "    \n",
    "    return customer, img_data_list, mask_data_list\n",
    "\n",
    "index = 50\n",
    "ID, img_data_list, mask_data_list = one_customer_data(data_df, index)\n",
    "\n",
    "canvas = np.zeros(shape=(512,512*2+50,3), dtype=np.uint8)\n",
    "\n",
    "for i in range(len(img_data_list)):\n",
    "    img = cv2.imread(os.path.join(data_dir,'images' ,img_data_list[i]))\n",
    "    mask = cv2.imread(os.path.join(data_dir,'masks' ,mask_data_list[i]))\n",
    "    img = cv2.cvtColor(img, cv2.COLOR_BGR2RGB)\n",
    "    mask = cv2.cvtColor(mask, cv2.COLOR_BGR2RGB)\n",
    "\n",
    "    thres = 240\n",
    "    mask[mask<thres] = 0\n",
    "    mask[mask>=thres] = 255\n",
    "\n",
    "    canvas[:, :512, :] = img\n",
    "    canvas[:,512+50:,:] = mask\n",
    "\n",
    "    cv2.imshow('image', canvas)\n",
    "    key = cv2.waitKey(60)\n",
    "    if key == 27:\n",
    "        break\n",
    "    if key == ord('s'):\n",
    "        cv2.waitKey(0)\n",
    "\n",
    "cv2.destroyAllWindows()\n",
    "    "
   ]
  },
  {
   "cell_type": "code",
   "execution_count": null,
   "id": "b8efa1b3-9aee-4bcb-9e9d-520e367c757e",
   "metadata": {},
   "outputs": [],
   "source": []
  },
  {
   "cell_type": "markdown",
   "id": "fa0c5e37-5e37-49a0-a59c-888cb8cfdcb5",
   "metadata": {},
   "source": [
    "# 2. 데이터셋 및 데이터 로더, transformer 구축"
   ]
  },
  {
   "cell_type": "code",
   "execution_count": 4,
   "id": "fbf4c2da-adfb-463b-baf8-6bbc8668b5de",
   "metadata": {},
   "outputs": [],
   "source": [
    "import torch"
   ]
  },
  {
   "cell_type": "code",
   "execution_count": 5,
   "id": "8a1799bd-38f8-4c0b-9ca3-3b6a1334ca2b",
   "metadata": {},
   "outputs": [],
   "source": [
    "IMG_SIZE = 224"
   ]
  },
  {
   "cell_type": "code",
   "execution_count": 6,
   "id": "bbbe28f5-2c00-46df-a2f2-d024a8fcdd5f",
   "metadata": {},
   "outputs": [],
   "source": [
    "# 데이터셋\n",
    "class MY_Dataset():\n",
    "    def __init__(self, data_dir, phase, transformer=None):\n",
    "        self.phase = phase\n",
    "        self.img_dir = os.path.join(data_dir,phase,'images')\n",
    "        self.mask_dir = os.path.join(data_dir,phase,'masks')\n",
    "        self.img_file_list = [img for img in os.listdir(self.img_dir) if img.endswith('jpg')]\n",
    "        self.mask_file_list = [mask for mask in os.listdir(self.mask_dir) if mask.endswith('jpg')]\n",
    "        assert len(self.img_file_list) == len(self.mask_file_list) # 두 데이터의 길이가 다르면 오류\n",
    "\n",
    "        self.transformer= transformer\n",
    "\n",
    "\n",
    "    def __len__(self):\n",
    "        return len(self.img_file_list)\n",
    "\n",
    "\n",
    "    def __getitem__(self, index):\n",
    "        img = cv2.imread(os.path.join(self.img_dir,self.img_file_list[index]))\n",
    "        img = cv2.resize(img, dsize=(IMG_SIZE,IMG_SIZE), interpolation=cv2.INTER_LINEAR)\n",
    "        mask = cv2.imread(os.path.join(self.mask_dir, self.mask_file_list[index]))\n",
    "        mask = cv2.resize(mask, dsize=(IMG_SIZE,IMG_SIZE), interpolation=cv2.INTER_NEAREST) #mask는 바이너리 형태로 되어있어야하기때문에 선형보간x\n",
    "\n",
    "        # 마스크를 이진화 해줘야함\n",
    "        mask[mask>=240] = 1\n",
    "        mask[mask<240] = 0\n",
    "        mask = mask/255.\n",
    "\n",
    "        H,W,C = mask.shape\n",
    "        background = np.ones((H,W,1)) #모든 채널이 label인 부분이 1, 아닌 부분이 0으로 설정 되어있음(이진화를 통해)\n",
    "        background[mask[:,:,0] != 0] = 0 #각 채널이 label로 인식하고 있는 부분을 0으로 제외하기 위함\n",
    "        background[mask[:,:,1] != 0] = 0\n",
    "        background[mask[:,:,2] != 0] = 0\n",
    "\n",
    "        mask = np.concatenate([background,mask], axis=-1)\n",
    "        mask = np.argmax(mask, axis=-1, keepdims=False) #keepdims=True일 경우 argmax를 하더라도 채널이 압축되지 않음\n",
    "\n",
    "        if self.transformer:\n",
    "            img = self.transformer(img)\n",
    "        \n",
    "        #long() : classification을 pixel단위로 수행할것이기 때문에 integer로 변경(텐서로 변경하면 1. 과 같은 소수 형태로 나타나서, label은 정수임)\n",
    "        mask = torch.from_numpy(mask).long()\n",
    "\n",
    "        return img, mask\n",
    "                         \n",
    "        \n",
    "        \n",
    "        "
   ]
  },
  {
   "cell_type": "code",
   "execution_count": 8,
   "id": "80db3b89-a871-493f-90e4-d1584132b69e",
   "metadata": {
    "scrolled": true
   },
   "outputs": [
    {
     "data": {
      "text/plain": [
       "(array([[[0, 0, 0],\n",
       "         [0, 0, 0],\n",
       "         [0, 0, 0],\n",
       "         ...,\n",
       "         [0, 0, 0],\n",
       "         [0, 0, 0],\n",
       "         [0, 0, 0]],\n",
       " \n",
       "        [[0, 0, 0],\n",
       "         [0, 0, 0],\n",
       "         [0, 0, 0],\n",
       "         ...,\n",
       "         [0, 0, 0],\n",
       "         [0, 0, 0],\n",
       "         [0, 0, 0]],\n",
       " \n",
       "        [[0, 0, 0],\n",
       "         [0, 0, 0],\n",
       "         [0, 0, 0],\n",
       "         ...,\n",
       "         [0, 0, 0],\n",
       "         [0, 0, 0],\n",
       "         [0, 0, 0]],\n",
       " \n",
       "        ...,\n",
       " \n",
       "        [[0, 0, 0],\n",
       "         [0, 0, 0],\n",
       "         [0, 0, 0],\n",
       "         ...,\n",
       "         [0, 0, 0],\n",
       "         [0, 0, 0],\n",
       "         [0, 0, 0]],\n",
       " \n",
       "        [[0, 0, 0],\n",
       "         [0, 0, 0],\n",
       "         [0, 0, 0],\n",
       "         ...,\n",
       "         [0, 0, 0],\n",
       "         [0, 0, 0],\n",
       "         [0, 0, 0]],\n",
       " \n",
       "        [[0, 0, 0],\n",
       "         [0, 0, 0],\n",
       "         [0, 0, 0],\n",
       "         ...,\n",
       "         [0, 0, 0],\n",
       "         [0, 0, 0],\n",
       "         [0, 0, 0]]], dtype=uint8),\n",
       " tensor([[0, 0, 0,  ..., 0, 0, 0],\n",
       "         [0, 0, 0,  ..., 0, 0, 0],\n",
       "         [0, 0, 0,  ..., 0, 0, 0],\n",
       "         ...,\n",
       "         [0, 0, 0,  ..., 0, 0, 0],\n",
       "         [0, 0, 0,  ..., 0, 0, 0],\n",
       "         [0, 0, 0,  ..., 0, 0, 0]]))"
      ]
     },
     "execution_count": 8,
     "metadata": {},
     "output_type": "execute_result"
    }
   ],
   "source": [
    "data_dir = '../../data/MEDICAL-DATASET/Segmentation'\n",
    "data_set = MY_Dataset(data_dir, 'train')\n",
    "data_set[0] "
   ]
  },
  {
   "cell_type": "code",
   "execution_count": 14,
   "id": "d8d4c857-2d1b-4b8f-bb3c-7765af669907",
   "metadata": {},
   "outputs": [],
   "source": [
    "#transformer \n",
    "from torchvision import transforms\n",
    "\n",
    "def build_transformer():\n",
    "    transformer = transforms.Compose([\n",
    "        transforms.ToTensor(),\n",
    "        transforms.Normalize(mean=[0.485,0.485,0.485],std=[0.229,0.224,0.225])])\n",
    "\n",
    "    return transformer"
   ]
  },
  {
   "cell_type": "code",
   "execution_count": 32,
   "id": "db7843cf-8cf8-486c-9706-21676b555ced",
   "metadata": {},
   "outputs": [],
   "source": [
    "# DataLoader\n",
    "from torch.utils.data import DataLoader\n",
    "\n",
    "def build_dataloader(data_dir, batch_size):\n",
    "    transformer = build_transformer()\n",
    "\n",
    "    data_loaders = {}\n",
    "\n",
    "    train_dataset = MY_Dataset(data_dir, phase='train', transformer=transformer)\n",
    "    \n",
    "    # 16000장의 데이터를 불러오는 데이터 로더 중 120장만 사용할 것이기 때문에 shuffle을 false로 -> True일 경우에 에폭마다 변경\n",
    "    data_loaders['train'] = DataLoader(train_dataset, batch_size=batch_size, shuffle=False)\n",
    "\n",
    "    val_dataset = MY_Dataset(data_dir, phase='val', transformer=transformer)\n",
    "    data_loaders['val'] = DataLoader(val_dataset, batch_size=batch_size, shuffle=False)\n",
    "\n",
    "    return data_loaders"
   ]
  },
  {
   "cell_type": "code",
   "execution_count": 33,
   "id": "68f068e2-2686-4b98-89f3-6306c4cb512c",
   "metadata": {},
   "outputs": [
    {
     "name": "stdout",
     "output_type": "stream",
     "text": [
      "train img shape : torch.Size([6, 3, 224, 224])\n",
      "train mask shape : torch.Size([6, 224, 224])\n",
      "val img shape : torch.Size([6, 3, 224, 224])\n",
      "val mask shape : torch.Size([6, 224, 224])\n"
     ]
    }
   ],
   "source": [
    "# 구성 확인\n",
    "data_dir = '../../data/MEDICAL-DATASET/Segmentation'\n",
    "data_loaders = build_dataloader(data_dir, 6)\n",
    "\n",
    "for phase in ['train','val']:\n",
    "    for index, batch in enumerate(data_loaders[phase]):\n",
    "        img = batch[0]\n",
    "        mask = batch[1]\n",
    "\n",
    "        print(f'{phase} img shape : {img.shape}')\n",
    "        print(f'{phase} mask shape : {mask.shape}')\n",
    "\n",
    "        if index == 0:\n",
    "            break"
   ]
  },
  {
   "cell_type": "code",
   "execution_count": null,
   "id": "b3542413-8504-46b7-aeb7-f558d0ff1e33",
   "metadata": {},
   "outputs": [],
   "source": []
  },
  {
   "cell_type": "code",
   "execution_count": null,
   "id": "179cd3d0-9901-4d9f-bcb1-ab663e0e5d05",
   "metadata": {},
   "outputs": [],
   "source": []
  },
  {
   "cell_type": "code",
   "execution_count": null,
   "id": "520b4ffc-db45-4737-ab76-41648d334b2c",
   "metadata": {},
   "outputs": [],
   "source": []
  },
  {
   "cell_type": "code",
   "execution_count": null,
   "id": "af947180-5058-43f0-ae11-4648d43e34fc",
   "metadata": {},
   "outputs": [],
   "source": []
  },
  {
   "cell_type": "code",
   "execution_count": null,
   "id": "cd901f78-037a-4452-a4d4-0550ed1361ef",
   "metadata": {},
   "outputs": [],
   "source": []
  },
  {
   "cell_type": "code",
   "execution_count": null,
   "id": "62a648c3-96a3-4936-b213-5e6590ae4a69",
   "metadata": {},
   "outputs": [],
   "source": []
  }
 ],
 "metadata": {
  "kernelspec": {
   "display_name": "torch",
   "language": "python",
   "name": "torch"
  },
  "language_info": {
   "codemirror_mode": {
    "name": "ipython",
    "version": 3
   },
   "file_extension": ".py",
   "mimetype": "text/x-python",
   "name": "python",
   "nbconvert_exporter": "python",
   "pygments_lexer": "ipython3",
   "version": "3.8.18"
  }
 },
 "nbformat": 4,
 "nbformat_minor": 5
}
